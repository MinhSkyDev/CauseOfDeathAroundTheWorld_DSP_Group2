{
 "cells": [
  {
   "cell_type": "markdown",
   "id": "578b6469",
   "metadata": {},
   "source": [
    "# Cause of Deaths around the World\n",
    "\n",
    "##### Trong đồ án này, nhóm chúng em xin phép được trình bày một quy trình Khoa Học Dữ Liệu với dataset về những nguyên nhân gây tử vong vòng quanh thế giới, tiền xử lý dữ liệu, đưa ra các câu hỏi, phân tích và đánh giá.\n",
    "\n",
    "Link Dataset: https://www.kaggle.com/datasets/iamsouravbanerjee/cause-of-deaths-around-the-world?resource=download"
   ]
  },
  {
   "cell_type": "markdown",
   "id": "d03c3ac6",
   "metadata": {},
   "source": [
    "# Import các thư viện cần thiết"
   ]
  },
  {
   "cell_type": "code",
   "execution_count": 1,
   "id": "109b5c7f",
   "metadata": {},
   "outputs": [],
   "source": [
    "import pandas as pd\n",
    "import matplotlib.pyplot as plt\n",
    "import numpy as np"
   ]
  },
  {
   "cell_type": "markdown",
   "id": "cadb6707",
   "metadata": {},
   "source": [
    "# Đọc dữ liệu cần thiết\n",
    "\n",
    "Sau khi giải nén bộ dữ liệu đã khám phá ở link trên, chúng ta sẽ được một file .csv"
   ]
  },
  {
   "cell_type": "code",
   "execution_count": null,
   "id": "8419728a",
   "metadata": {},
   "outputs": [],
   "source": []
  }
 ],
 "metadata": {
  "kernelspec": {
   "display_name": "Python 3 (ipykernel)",
   "language": "python",
   "name": "python3"
  },
  "language_info": {
   "codemirror_mode": {
    "name": "ipython",
    "version": 3
   },
   "file_extension": ".py",
   "mimetype": "text/x-python",
   "name": "python",
   "nbconvert_exporter": "python",
   "pygments_lexer": "ipython3",
   "version": "3.8.8"
  }
 },
 "nbformat": 4,
 "nbformat_minor": 5
}
