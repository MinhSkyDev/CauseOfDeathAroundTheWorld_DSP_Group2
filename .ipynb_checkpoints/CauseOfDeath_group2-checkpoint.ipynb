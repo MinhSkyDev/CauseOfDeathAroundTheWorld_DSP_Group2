{
 "cells": [
  {
   "cell_type": "markdown",
   "id": "578b6469",
   "metadata": {},
   "source": [
    "# Cause Of Deaths Around The World\n",
    "\n",
    "##### Trong đồ án này, nhóm chúng em xin phép được trình bày một quy trình Khoa Học Dữ Liệu với dataset về những nguyên nhân gây tử vong vòng quanh thế giới, tiền xử lý dữ liệu, đưa ra các câu hỏi, phân tích và đánh giá.\n",
    "\n",
    "Link Dataset: https://www.kaggle.com/datasets/iamsouravbanerjee/cause-of-deaths-around-the-world?resource=download"
   ]
  },
  {
   "cell_type": "markdown",
   "id": "d03c3ac6",
   "metadata": {},
   "source": [
    "# Import các thư viện cần thiết"
   ]
  },
  {
   "cell_type": "code",
   "execution_count": 19,
   "id": "109b5c7f",
   "metadata": {},
   "outputs": [],
   "source": [
    "import pandas as pd\n",
    "import matplotlib.pyplot as plt\n",
    "import numpy as np"
   ]
  },
  {
   "cell_type": "markdown",
   "id": "cadb6707",
   "metadata": {},
   "source": [
    "# Khám phá dữ liệu\n",
    "\n",
    "### Đọc dữ liệu từ .csv vào dataframe\n",
    "\n",
    "Sau khi giải nén bộ dữ liệu đã khám phá ở link trên, chúng ta sẽ được một file \"cause_of_deaths.csv\"\n",
    "\n",
    "Chúng ta sẽ tiến hành đọc dữ liệu vào một DataFrame tên là cause_of_deaths_df"
   ]
  },
  {
   "cell_type": "code",
   "execution_count": 20,
   "id": "8419728a",
   "metadata": {},
   "outputs": [
    {
     "data": {
      "text/html": [
       "<div>\n",
       "<style scoped>\n",
       "    .dataframe tbody tr th:only-of-type {\n",
       "        vertical-align: middle;\n",
       "    }\n",
       "\n",
       "    .dataframe tbody tr th {\n",
       "        vertical-align: top;\n",
       "    }\n",
       "\n",
       "    .dataframe thead th {\n",
       "        text-align: right;\n",
       "    }\n",
       "</style>\n",
       "<table border=\"1\" class=\"dataframe\">\n",
       "  <thead>\n",
       "    <tr style=\"text-align: right;\">\n",
       "      <th></th>\n",
       "      <th>Country/Territory</th>\n",
       "      <th>Code</th>\n",
       "      <th>Year</th>\n",
       "      <th>Meningitis</th>\n",
       "      <th>Alzheimer's Disease and Other Dementias</th>\n",
       "      <th>Parkinson's Disease</th>\n",
       "      <th>Nutritional Deficiencies</th>\n",
       "      <th>Malaria</th>\n",
       "      <th>Drowning</th>\n",
       "      <th>Interpersonal Violence</th>\n",
       "      <th>...</th>\n",
       "      <th>Diabetes Mellitus</th>\n",
       "      <th>Chronic Kidney Disease</th>\n",
       "      <th>Poisonings</th>\n",
       "      <th>Protein-Energy Malnutrition</th>\n",
       "      <th>Road Injuries</th>\n",
       "      <th>Chronic Respiratory Diseases</th>\n",
       "      <th>Cirrhosis and Other Chronic Liver Diseases</th>\n",
       "      <th>Digestive Diseases</th>\n",
       "      <th>Fire, Heat, and Hot Substances</th>\n",
       "      <th>Acute Hepatitis</th>\n",
       "    </tr>\n",
       "  </thead>\n",
       "  <tbody>\n",
       "    <tr>\n",
       "      <th>0</th>\n",
       "      <td>Afghanistan</td>\n",
       "      <td>AFG</td>\n",
       "      <td>1990</td>\n",
       "      <td>2159</td>\n",
       "      <td>1116</td>\n",
       "      <td>371</td>\n",
       "      <td>2087</td>\n",
       "      <td>93</td>\n",
       "      <td>1370</td>\n",
       "      <td>1538</td>\n",
       "      <td>...</td>\n",
       "      <td>2108</td>\n",
       "      <td>3709</td>\n",
       "      <td>338</td>\n",
       "      <td>2054</td>\n",
       "      <td>4154</td>\n",
       "      <td>5945</td>\n",
       "      <td>2673</td>\n",
       "      <td>5005</td>\n",
       "      <td>323</td>\n",
       "      <td>2985</td>\n",
       "    </tr>\n",
       "    <tr>\n",
       "      <th>1</th>\n",
       "      <td>Afghanistan</td>\n",
       "      <td>AFG</td>\n",
       "      <td>1991</td>\n",
       "      <td>2218</td>\n",
       "      <td>1136</td>\n",
       "      <td>374</td>\n",
       "      <td>2153</td>\n",
       "      <td>189</td>\n",
       "      <td>1391</td>\n",
       "      <td>2001</td>\n",
       "      <td>...</td>\n",
       "      <td>2120</td>\n",
       "      <td>3724</td>\n",
       "      <td>351</td>\n",
       "      <td>2119</td>\n",
       "      <td>4472</td>\n",
       "      <td>6050</td>\n",
       "      <td>2728</td>\n",
       "      <td>5120</td>\n",
       "      <td>332</td>\n",
       "      <td>3092</td>\n",
       "    </tr>\n",
       "    <tr>\n",
       "      <th>2</th>\n",
       "      <td>Afghanistan</td>\n",
       "      <td>AFG</td>\n",
       "      <td>1992</td>\n",
       "      <td>2475</td>\n",
       "      <td>1162</td>\n",
       "      <td>378</td>\n",
       "      <td>2441</td>\n",
       "      <td>239</td>\n",
       "      <td>1514</td>\n",
       "      <td>2299</td>\n",
       "      <td>...</td>\n",
       "      <td>2153</td>\n",
       "      <td>3776</td>\n",
       "      <td>386</td>\n",
       "      <td>2404</td>\n",
       "      <td>5106</td>\n",
       "      <td>6223</td>\n",
       "      <td>2830</td>\n",
       "      <td>5335</td>\n",
       "      <td>360</td>\n",
       "      <td>3325</td>\n",
       "    </tr>\n",
       "    <tr>\n",
       "      <th>3</th>\n",
       "      <td>Afghanistan</td>\n",
       "      <td>AFG</td>\n",
       "      <td>1993</td>\n",
       "      <td>2812</td>\n",
       "      <td>1187</td>\n",
       "      <td>384</td>\n",
       "      <td>2837</td>\n",
       "      <td>108</td>\n",
       "      <td>1687</td>\n",
       "      <td>2589</td>\n",
       "      <td>...</td>\n",
       "      <td>2195</td>\n",
       "      <td>3862</td>\n",
       "      <td>425</td>\n",
       "      <td>2797</td>\n",
       "      <td>5681</td>\n",
       "      <td>6445</td>\n",
       "      <td>2943</td>\n",
       "      <td>5568</td>\n",
       "      <td>396</td>\n",
       "      <td>3601</td>\n",
       "    </tr>\n",
       "    <tr>\n",
       "      <th>4</th>\n",
       "      <td>Afghanistan</td>\n",
       "      <td>AFG</td>\n",
       "      <td>1994</td>\n",
       "      <td>3027</td>\n",
       "      <td>1211</td>\n",
       "      <td>391</td>\n",
       "      <td>3081</td>\n",
       "      <td>211</td>\n",
       "      <td>1809</td>\n",
       "      <td>2849</td>\n",
       "      <td>...</td>\n",
       "      <td>2231</td>\n",
       "      <td>3932</td>\n",
       "      <td>451</td>\n",
       "      <td>3038</td>\n",
       "      <td>6001</td>\n",
       "      <td>6664</td>\n",
       "      <td>3027</td>\n",
       "      <td>5739</td>\n",
       "      <td>420</td>\n",
       "      <td>3816</td>\n",
       "    </tr>\n",
       "  </tbody>\n",
       "</table>\n",
       "<p>5 rows × 34 columns</p>\n",
       "</div>"
      ],
      "text/plain": [
       "  Country/Territory Code  Year  Meningitis  \\\n",
       "0       Afghanistan  AFG  1990        2159   \n",
       "1       Afghanistan  AFG  1991        2218   \n",
       "2       Afghanistan  AFG  1992        2475   \n",
       "3       Afghanistan  AFG  1993        2812   \n",
       "4       Afghanistan  AFG  1994        3027   \n",
       "\n",
       "   Alzheimer's Disease and Other Dementias  Parkinson's Disease  \\\n",
       "0                                     1116                  371   \n",
       "1                                     1136                  374   \n",
       "2                                     1162                  378   \n",
       "3                                     1187                  384   \n",
       "4                                     1211                  391   \n",
       "\n",
       "   Nutritional Deficiencies  Malaria  Drowning  Interpersonal Violence  ...  \\\n",
       "0                      2087       93      1370                    1538  ...   \n",
       "1                      2153      189      1391                    2001  ...   \n",
       "2                      2441      239      1514                    2299  ...   \n",
       "3                      2837      108      1687                    2589  ...   \n",
       "4                      3081      211      1809                    2849  ...   \n",
       "\n",
       "   Diabetes Mellitus  Chronic Kidney Disease  Poisonings  \\\n",
       "0               2108                    3709         338   \n",
       "1               2120                    3724         351   \n",
       "2               2153                    3776         386   \n",
       "3               2195                    3862         425   \n",
       "4               2231                    3932         451   \n",
       "\n",
       "   Protein-Energy Malnutrition  Road Injuries  Chronic Respiratory Diseases  \\\n",
       "0                         2054           4154                          5945   \n",
       "1                         2119           4472                          6050   \n",
       "2                         2404           5106                          6223   \n",
       "3                         2797           5681                          6445   \n",
       "4                         3038           6001                          6664   \n",
       "\n",
       "   Cirrhosis and Other Chronic Liver Diseases  Digestive Diseases  \\\n",
       "0                                        2673                5005   \n",
       "1                                        2728                5120   \n",
       "2                                        2830                5335   \n",
       "3                                        2943                5568   \n",
       "4                                        3027                5739   \n",
       "\n",
       "   Fire, Heat, and Hot Substances  Acute Hepatitis  \n",
       "0                             323             2985  \n",
       "1                             332             3092  \n",
       "2                             360             3325  \n",
       "3                             396             3601  \n",
       "4                             420             3816  \n",
       "\n",
       "[5 rows x 34 columns]"
      ]
     },
     "execution_count": 20,
     "metadata": {},
     "output_type": "execute_result"
    }
   ],
   "source": [
    "cause_of_deaths_df = pd.read_csv(\"cause_of_deaths.csv\")\n",
    "cause_of_deaths_df.head()"
   ]
  },
  {
   "cell_type": "markdown",
   "id": "7e50052c",
   "metadata": {},
   "source": [
    "### Kiểm tra số dòng và số cột của dữ liệu\n",
    "\n",
    "Kiểm tra số dòng và số cột của dữ liệu, sau đó lưu vào hai biến tên là num_cols và num_rows"
   ]
  },
  {
   "cell_type": "code",
   "execution_count": 30,
   "id": "80e1b78b",
   "metadata": {},
   "outputs": [],
   "source": [
    "def countCols(df):\n",
    "    result = len(df.axes[1])\n",
    "    return result\n",
    "\n",
    "def countRows(df):\n",
    "    result = len(df.axes[0])\n",
    "    return result\n",
    "\n",
    "num_cols = countCols(cause_of_deaths_df)\n",
    "num_rows = countRows(cause_of_deaths_df)\n"
   ]
  },
  {
   "cell_type": "markdown",
   "id": "4ecd0f79",
   "metadata": {},
   "source": [
    "### Mỗi một cột ( thuộc tính ) có ý nghĩa như thế nào ?\n",
    "\n",
    "Theo như mô tả của dữ liệu trên kaggle, thì chúng ta có một số dòng dữ liệu cần lưu ý như sau\n",
    "\n",
    "01. Country/Territory - Tên của nước trên dòng dữ liệu đó\n",
    "\n",
    "02. Code - Mã của các nước tương ứng\n",
    "\n",
    "03. Year - Năm diễn ra khi thu thập thông số\n",
    "\n",
    "Và các cột thứ 4 -> 32 là số người tử vong với nguyên nhân tử vong tương ứng\n",
    "\n",
    "### Chúng ta sẽ liệt kê các nguyên nhân tử vong này là gì\n",
    "\n",
    "Liệt kê tất cả các loại nguyên nhân và lưu vào biến names_cause\n"
   ]
  },
  {
   "cell_type": "code",
   "execution_count": 22,
   "id": "c8e8397f",
   "metadata": {},
   "outputs": [
    {
     "data": {
      "text/plain": [
       "0                                     Meningitis\n",
       "1        Alzheimer's Disease and Other Dementias\n",
       "2                            Parkinson's Disease\n",
       "3                       Nutritional Deficiencies\n",
       "4                                        Malaria\n",
       "5                                       Drowning\n",
       "6                         Interpersonal Violence\n",
       "7                             Maternal Disorders\n",
       "8                                       HIV/AIDS\n",
       "9                             Drug Use Disorders\n",
       "10                                  Tuberculosis\n",
       "11                       Cardiovascular Diseases\n",
       "12                  Lower Respiratory Infections\n",
       "13                            Neonatal Disorders\n",
       "14                         Alcohol Use Disorders\n",
       "15                                     Self-harm\n",
       "16                  Exposure to Forces of Nature\n",
       "17                            Diarrheal Diseases\n",
       "18          Environmental Heat and Cold Exposure\n",
       "19                                     Neoplasms\n",
       "20                        Conflict and Terrorism\n",
       "21                             Diabetes Mellitus\n",
       "22                        Chronic Kidney Disease\n",
       "23                                    Poisonings\n",
       "24                   Protein-Energy Malnutrition\n",
       "25                                 Road Injuries\n",
       "26                  Chronic Respiratory Diseases\n",
       "27    Cirrhosis and Other Chronic Liver Diseases\n",
       "28                            Digestive Diseases\n",
       "29                Fire, Heat, and Hot Substances\n",
       "30                               Acute Hepatitis\n",
       "dtype: object"
      ]
     },
     "execution_count": 22,
     "metadata": {},
     "output_type": "execute_result"
    }
   ],
   "source": [
    "names_cause = pd.Series(cause_of_deaths_df.columns.values[3:])\n",
    "names_cause"
   ]
  },
  {
   "cell_type": "markdown",
   "id": "209ccdd8",
   "metadata": {},
   "source": [
    "### Mỗi cột hiện đang có kiểu dữ liệu gì? Có cột nào có kiểu dữ liệu không phù hợp không?\n",
    "\n",
    "Lấy kiểu dữ liệu của các cột và lưu vào series cols_dtype"
   ]
  },
  {
   "cell_type": "code",
   "execution_count": 23,
   "id": "424cfd3f",
   "metadata": {},
   "outputs": [
    {
     "data": {
      "text/plain": [
       "Country/Territory                             object\n",
       "Code                                          object\n",
       "Year                                           int64\n",
       "Meningitis                                     int64\n",
       "Alzheimer's Disease and Other Dementias        int64\n",
       "Parkinson's Disease                            int64\n",
       "Nutritional Deficiencies                       int64\n",
       "Malaria                                        int64\n",
       "Drowning                                       int64\n",
       "Interpersonal Violence                         int64\n",
       "Maternal Disorders                             int64\n",
       "HIV/AIDS                                       int64\n",
       "Drug Use Disorders                             int64\n",
       "Tuberculosis                                   int64\n",
       "Cardiovascular Diseases                        int64\n",
       "Lower Respiratory Infections                   int64\n",
       "Neonatal Disorders                             int64\n",
       "Alcohol Use Disorders                          int64\n",
       "Self-harm                                      int64\n",
       "Exposure to Forces of Nature                   int64\n",
       "Diarrheal Diseases                             int64\n",
       "Environmental Heat and Cold Exposure           int64\n",
       "Neoplasms                                      int64\n",
       "Conflict and Terrorism                         int64\n",
       "Diabetes Mellitus                              int64\n",
       "Chronic Kidney Disease                         int64\n",
       "Poisonings                                     int64\n",
       "Protein-Energy Malnutrition                    int64\n",
       "Road Injuries                                  int64\n",
       "Chronic Respiratory Diseases                   int64\n",
       "Cirrhosis and Other Chronic Liver Diseases     int64\n",
       "Digestive Diseases                             int64\n",
       "Fire, Heat, and Hot Substances                 int64\n",
       "Acute Hepatitis                                int64\n",
       "dtype: object"
      ]
     },
     "execution_count": 23,
     "metadata": {},
     "output_type": "execute_result"
    }
   ],
   "source": [
    "cols_name = list(cause_of_deaths_df.columns.values)\n",
    "cols_dtype = pd.Series(cause_of_deaths_df[cols_name].dtypes)\n",
    "cols_dtypecause"
   ]
  },
  {
   "cell_type": "markdown",
   "id": "7fd28d6c",
   "metadata": {},
   "source": [
    "## Nhận xét kiểu dữ liệu \n",
    "\n",
    "Ta có các kiểu từ Year cho tới các kiểu dữ liệu số lượng người tử vong về một nguyên nhân nào đó thuộc kiểu dữ liệu int và là numercial\n",
    "\n",
    "Chúng ta sẽ cần tìm hiểu cụ thể kiểu dữ liệu của Country/Territory và Code là gì\n",
    "\n",
    "Ta sẽ viết một hàm để tìm hiểu kỹ hơn kiểu dữ liệu của cột trên, ở đây chúng ta sẽ sử dụng phương thức apply để làm."
   ]
  },
  {
   "cell_type": "code",
   "execution_count": 29,
   "id": "adb73916",
   "metadata": {},
   "outputs": [],
   "source": [
    "def open_object_dtype(s):\n",
    "    dtypes = set()\n",
    "    \n",
    "    #Ta sẽ append lần lượt các type của từng s[i] vào trong set\n",
    "    ##Thì chắc chắn rằng bên trong dtypes sẽ chỉ có một kiểu duy nhất, cho nên rằng set này chỉ chứa 1 phần tử\n",
    "    \n",
    "    ##Chúng ta lấy ra một series dùng apply với hàm type lên tất cả các s[i]\n",
    "    object_series = s.apply(type)\n",
    "    \n",
    "    ##Sau đó dùng chính hàm dtypes.add để apply vô series object_series vừa xử lý xong\n",
    "    object_series.apply(dtypes.add)\n",
    "    return dtypes\n",
    "\n",
    "type_of_country = open_object_dtype(cause_of_deaths_df['Country/Territory'])\n",
    "type_of_code = open_object_dtype(cause_of_deaths_df['Code'])"
   ]
  },
  {
   "cell_type": "markdown",
   "id": "ef94d336",
   "metadata": {},
   "source": [
    "## Nhận xét kiểu dữ liệu object\n",
    "\n",
    "Vậy ta có thể thấy rằng, kiểu dữ liệu của hai cột Country/Territory và Code là string, vậy rằng trong bộ dữ liệu này chúng ta sẽ không cần phải tiền xử lý/ chuẩn hóa dữ liệu lại để có thể thực hiện các câu hỏi"
   ]
  },
  {
   "cell_type": "markdown",
   "id": "c29955ba",
   "metadata": {},
   "source": [
    "## Có dòng nào bị lặp hay không ?\n",
    "\n",
    "Ta xác định trong DataFrame có dòng nào bị lặp không để tiến hành lọc và đưa ra các nhận xét. Lưu kết quả ở trong biến have_duplicated_rows, trả về true nếu như có các dòng bị lặp, trả về false nếu như không có dòng nào bị lăp"
   ]
  },
  {
   "cell_type": "code",
   "execution_count": 32,
   "id": "c255e11a",
   "metadata": {},
   "outputs": [
    {
     "data": {
      "text/plain": [
       "False"
      ]
     },
     "execution_count": 32,
     "metadata": {},
     "output_type": "execute_result"
    }
   ],
   "source": [
    "temp = np.array(cause_of_deaths_df.duplicated())\n",
    "\n",
    "##Check xem có tồn tại phần tử nào là True hay không, nếu không có bất kỳ một phần tử nào là true thì trả về False\n",
    "have_duplicated_rows = np.any(temp)\n",
    "have_duplicated_rows"
   ]
  },
  {
   "cell_type": "markdown",
   "id": "04594885",
   "metadata": {},
   "source": [
    "Vậy rằng không có dòng nào trong đây bị lặp, các dữ liệu hoàn toàn độc lập với nhau"
   ]
  },
  {
   "cell_type": "markdown",
   "id": "4eed0292",
   "metadata": {},
   "source": [
    "## Kiểm tra xem trong các cột có dữ liệu thuộc kiểu Numercial có dữ liệu nào bị thiếu hay là không\n",
    "\n",
    "Ta sẽ kiểm tra xem trong lần lượt các cột số lượng người tử vong với các nguyên nhân tương ứng xem có giá trị nào trong đó bị thiếu không. Ta cần kiểm tra thông số này để đưa ra hướng giải quyết tiêp theo xem liệu rằng ta có nên kiểm tra tỉ lệ phần trăm dữ liệu bị thiếu và lần lượt đưa ra các kiểm tra cho phân bố dữ liệu. Kết quả lưu vào biến numberOfMissing"
   ]
  },
  {
   "cell_type": "code",
   "execution_count": 41,
   "id": "650363bf",
   "metadata": {},
   "outputs": [],
   "source": [
    "def countMissingNumber(arr):\n",
    "    return np.count_nonzero(np.isnan(arr))\n",
    "\n",
    "numberOfMissing = countMissingNumber(cause_of_deaths_df[names_cause])\n"
   ]
  },
  {
   "cell_type": "markdown",
   "id": "f1bcc1cb",
   "metadata": {},
   "source": [
    "## Với mỗi loại nguyên nhân tử vong, số lượng người tử vong nhiều nhất và ít nhất của từng nguyên nhân đó là bao nhiêu trong tất cả các năm khảo sát ?\n",
    "\n",
    "Ở đây chúng ta sẽ dùng vòng lặp để lặp qua tên các loại nguyên nhân (đã thu thập ở trên) để lấy được từng Series của từng loại nguyên nhân, chi phí cho vòng lặp này là rất nhỏ ( bằng với số lượng cột Numercial là 30 lần )\n",
    "\n",
    "Dữ liệu của từng nguyên nhân sẽ được lưu trong một dictionary cause_death_profile với key là tên nguyên nhân và value là list chứa 2 phần từ là số lượng min và max người tử vong về nguyên nhân đó"
   ]
  },
  {
   "cell_type": "code",
   "execution_count": 42,
   "id": "cf503120",
   "metadata": {},
   "outputs": [
    {
     "data": {
      "text/plain": [
       "{'Meningitis': [0, 98358],\n",
       " \"Alzheimer's Disease and Other Dementias\": [0, 320715],\n",
       " \"Parkinson's Disease\": [0, 76990],\n",
       " 'Nutritional Deficiencies': [0, 268223],\n",
       " 'Malaria': [0, 280604],\n",
       " 'Drowning': [0, 153773],\n",
       " 'Interpersonal Violence': [0, 69640],\n",
       " 'Maternal Disorders': [0, 107929],\n",
       " 'HIV/AIDS': [0, 305491],\n",
       " 'Drug Use Disorders': [0, 65717],\n",
       " 'Tuberculosis': [0, 657515],\n",
       " 'Cardiovascular Diseases': [4, 4584273],\n",
       " 'Lower Respiratory Infections': [0, 690913],\n",
       " 'Neonatal Disorders': [0, 852761],\n",
       " 'Alcohol Use Disorders': [0, 55200],\n",
       " 'Self-harm': [0, 220357],\n",
       " 'Exposure to Forces of Nature': [0, 222641],\n",
       " 'Diarrheal Diseases': [0, 1119477],\n",
       " 'Environmental Heat and Cold Exposure': [0, 29048],\n",
       " 'Neoplasms': [1, 2716551],\n",
       " 'Conflict and Terrorism': [0, 503532],\n",
       " 'Diabetes Mellitus': [1, 273089],\n",
       " 'Chronic Kidney Disease': [0, 222922],\n",
       " 'Poisonings': [0, 30883],\n",
       " 'Protein-Energy Malnutrition': [0, 202241],\n",
       " 'Road Injuries': [0, 329237],\n",
       " 'Chronic Respiratory Diseases': [1, 1366039],\n",
       " 'Cirrhosis and Other Chronic Liver Diseases': [0, 270037],\n",
       " 'Digestive Diseases': [0, 464914],\n",
       " 'Fire, Heat, and Hot Substances': [0, 25876],\n",
       " 'Acute Hepatitis': [0, 64305]}"
      ]
     },
     "execution_count": 42,
     "metadata": {},
     "output_type": "execute_result"
    }
   ],
   "source": [
    "##Ta có biến names_cause chứa số lượng nguyên nhân các loại bệnh\n",
    "\n",
    "def getMin(arr):\n",
    "    return arr.min()\n",
    "    \n",
    "    \n",
    "def getMax(arr):\n",
    "    return arr.max()\n",
    "\n",
    "cause_death_profile = {}\n",
    "\n",
    "for name_cause in names_cause:\n",
    "    cause_Series = cause_of_deaths_df[name_cause]\n",
    "    cause_num_min = getMin(cause_Series)\n",
    "    cause_num_max = getMax(cause_Series)\n",
    "    cause_death_profile[name_cause] = [cause_num_min,cause_num_max]\n",
    "    \n",
    "cause_death_profile\n",
    "    "
   ]
  },
  {
   "cell_type": "markdown",
   "id": "4ee24570",
   "metadata": {},
   "source": [
    "# Đưa ra các câu hỏi cần trả lời"
   ]
  },
  {
   "cell_type": "code",
   "execution_count": null,
   "id": "3e2275ea",
   "metadata": {},
   "outputs": [],
   "source": []
  }
 ],
 "metadata": {
  "kernelspec": {
   "display_name": "Python 3 (ipykernel)",
   "language": "python",
   "name": "python3"
  },
  "language_info": {
   "codemirror_mode": {
    "name": "ipython",
    "version": 3
   },
   "file_extension": ".py",
   "mimetype": "text/x-python",
   "name": "python",
   "nbconvert_exporter": "python",
   "pygments_lexer": "ipython3",
   "version": "3.8.8"
  }
 },
 "nbformat": 4,
 "nbformat_minor": 5
}
